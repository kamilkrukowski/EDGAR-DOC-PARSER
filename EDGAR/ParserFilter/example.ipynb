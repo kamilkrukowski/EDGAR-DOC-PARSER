{
 "cells": [
  {
   "cell_type": "markdown",
   "id": "0bc23480-093e-4158-a405-7efc9542c3a1",
   "metadata": {},
   "source": [
    "Import\n",
    "Let the `ParserFilter` read the tag_list. "
   ]
  },
  {
   "cell_type": "code",
   "execution_count": 1,
   "id": "deacb84e-d781-44a1-8d5f-4b6a5c8514d2",
   "metadata": {},
   "outputs": [],
   "source": [
    "from ParserFilter import ParserFilter\n",
    "import os\n",
    "P = ParserFilter()"
   ]
  },
  {
   "cell_type": "markdown",
   "id": "dcaa9ee9-f6f8-43b1-b5c1-5da8203637ce",
   "metadata": {},
   "source": [
    "When writing as .py, change the `getcwd()` to `os.path.dirname(\\_\\_file\\_\\_)`\n",
    "\n",
    "Locate the files"
   ]
  },
  {
   "cell_type": "code",
   "execution_count": 2,
   "id": "e7a4ae31-5e4f-414e-be26-8cff1424d50c",
   "metadata": {},
   "outputs": [],
   "source": [
    "path_nflx = os.path.join(os.path.dirname(os.getcwd()), 'edgar_downloads','processed','nflx')"
   ]
  },
  {
   "cell_type": "markdown",
   "id": "93fc8249-ceaa-4f9f-9686-7b1e8da0e7c7",
   "metadata": {},
   "source": [
    "Use the `ParserFilter.file_with_annotation` method, feed in an **opened file objec**"
   ]
  },
  {
   "cell_type": "code",
   "execution_count": 3,
   "id": "6732aa78-5d8b-4d1d-84c6-ff3b306c1d57",
   "metadata": {},
   "outputs": [
    {
     "name": "stdout",
     "output_type": "stream",
     "text": [
      "False\n"
     ]
    }
   ],
   "source": [
    "for filename in os.listdir(path_nflx):\n",
    "    folder_path = os.path.join(path_nflx, filename)\n",
    "    doc = os.listdir(folder_path)\n",
    "    with open(os.path.join(folder_path, doc[0])) as f:\n",
    "        print(P.file_with_annotation(f))\n",
    "    break"
   ]
  }
 ],
 "metadata": {
  "kernelspec": {
   "display_name": "Python 3 (ipykernel)",
   "language": "python",
   "name": "python3"
  },
  "language_info": {
   "codemirror_mode": {
    "name": "ipython",
    "version": 3
   },
   "file_extension": ".py",
   "mimetype": "text/x-python",
   "name": "python",
   "nbconvert_exporter": "python",
   "pygments_lexer": "ipython3",
   "version": "3.10.0"
  }
 },
 "nbformat": 4,
 "nbformat_minor": 5
}
