{
 "cells": [
  {
   "cell_type": "code",
   "execution_count": 1,
   "id": "c83340ea",
   "metadata": {},
   "outputs": [],
   "source": [
    "import pandas as pd\n",
    "import numpy as np\n",
    "from datetime import datetime, timedelta\n",
    "import re"
   ]
  },
  {
   "cell_type": "code",
   "execution_count": 2,
   "id": "90abe0a1",
   "metadata": {},
   "outputs": [],
   "source": [
    "import pickle\n",
    "\n",
    "# loading only\n",
    "with open('item_type.pkl', 'rb') as handle:\n",
    "    item_dict = pickle.load(handle)"
   ]
  },
  {
   "cell_type": "code",
   "execution_count": 3,
   "id": "92b92589",
   "metadata": {},
   "outputs": [],
   "source": [
    "# dumping only\n",
    "with open('item_type.pkl', 'wb') as handle:\n",
    "    b = pickle.dump(item_dict,handle)\n"
   ]
  },
  {
   "cell_type": "code",
   "execution_count": 4,
   "id": "23f8a508",
   "metadata": {},
   "outputs": [
    {
     "data": {
      "text/plain": [
       "['termination of a material definitive agreement',\n",
       " 'change in credit enhancement or other external support',\n",
       " 'shareholder director nominations',\n",
       " 'acquisition or disposition of assets',\n",
       " 'unregistered sales of equity securities',\n",
       " 'material impairments',\n",
       " \"resignations of registrant's directors\",\n",
       " 'changes in control of registrant',\n",
       " \"amendment to registrant's code of ethics, or waiver of a provision of the code of ethics\",\n",
       " 'regulation fd disclosure',\n",
       " 'completion of acquisition or disposition of assets',\n",
       " 'triggering events that accelerate or increase a direct financial obligation or an obligation under an off-balance sheet arrangement',\n",
       " 'non-reliance on previously issued financial statements or a related audit report or completed interim review',\n",
       " \"changes in registrant's certifying accountant\",\n",
       " 'material modifications to rights of security holders',\n",
       " 'departure of directors or certain officers; election of directors; appointment of certain officers; compensatory arrangements of certain officers',\n",
       " 'other events',\n",
       " 'change of servicer or trustee',\n",
       " 'failure to make a required distribution',\n",
       " 'material modification to rights of security holders',\n",
       " 'cost associated with exit or disposal activities',\n",
       " 'securities act updating disclosure',\n",
       " 'financial statements and exhibits',\n",
       " 'results of operations and financial condition',\n",
       " 'abs informational and computational material',\n",
       " 'entry into a material definitive agreement',\n",
       " 'notice of delisting or failure to satisfy a continued listing rule or standard; transfer of listing',\n",
       " 'creation of a direct financial obligation or an obligation under an off-balance sheet arrangement of a registrant',\n",
       " 'amendments to articles of incorporation or bylaws; change in fiscal year',\n",
       " 'mine safety - reporting of shutdowns and patterns of violations',\n",
       " 'change in shell company status',\n",
       " 'submission of matters to a vote of security holders',\n",
       " 'bankruptcy or receivership',\n",
       " \"temporary suspension of trading under registrant's employee benefit plans\",\n",
       " \"amendments to the registrant's code of ethics, or waiver of a provision of the code of ethics\"]"
      ]
     },
     "execution_count": 4,
     "metadata": {},
     "output_type": "execute_result"
    }
   ],
   "source": [
    "item_value = list(set(item_dict.keys()))\n",
    "item_value"
   ]
  },
  {
   "cell_type": "code",
   "execution_count": 5,
   "id": "879c9237",
   "metadata": {},
   "outputs": [],
   "source": [
    "# CHECK IF AN ITEM IS IN THE TEXT AND GET THE START IN DEX\n",
    "def is_item_exist(text, item):\n",
    "    \"\"\"\n",
    "        check if the item exists in the text\n",
    "        if item is in the text, return True, starting index\n",
    "        otherwise, return False, None\n",
    "    \"\"\"\n",
    "    start = f'{item}'\n",
    "    # multiple spaces between words\n",
    "    start = re.sub(' ',r'[ ]*',start)\n",
    "    start_section_pattern = re.compile(start, re.IGNORECASE)\n",
    "    \n",
    "    start_found = start_section_pattern.findall(text)\n",
    "    start_search = start_section_pattern.search(text)\n",
    "    if len(start_found) > 0:\n",
    "        return True, start_search.start()\n",
    "    return False, None\n",
    "            \n",
    "\n",
    "        \n",
    "\n",
    "    "
   ]
  },
  {
   "cell_type": "code",
   "execution_count": 6,
   "id": "d1723354",
   "metadata": {},
   "outputs": [],
   "source": [
    "def get_items_section_index(text, items_list):\n",
    "    \"\"\"\n",
    "        use the pre-build item list\n",
    "        return the location of the items \n",
    "    \"\"\"\n",
    "    item_start_location = {}\n",
    "    for item in items_list:\n",
    "        has_item, start_index  = is_item_exist(text, item)\n",
    "        if has_item:\n",
    "            item_start_location[item] = start_index\n",
    "    item_start_order = dict(sorted(\n",
    "        item_start_location.items(),\n",
    "        key=lambda x: x[1],\n",
    "        reverse=False)).keys()\n",
    "    \n",
    "    # find end location\n",
    "    end = r'Pursuant to the requirements of the Securities Exchange Act'\n",
    "    end_section_pattern = re.compile(end, re.IGNORECASE)\n",
    "    end_found = end_section_pattern.findall(text)\n",
    "    if(len(end_found) > 0):\n",
    "        end_search = end_section_pattern.search(text)\n",
    "        end_index = end_search.end()\n",
    "    else:\n",
    "        end_index = len(text)\n",
    "        \n",
    "    return item_start_location, list(item_start_order), end_index\n",
    "        \n",
    "    \n",
    "     "
   ]
  },
  {
   "cell_type": "code",
   "execution_count": 7,
   "id": "9a4b65c7",
   "metadata": {},
   "outputs": [],
   "source": [
    "def extract_8k_text(f):\n",
    "        \"\"\"\n",
    "        Given a string of html, return the raw text part of the string\n",
    "        \"\"\"\n",
    "        a = f.lower()\n",
    "        a = re.sub('<document>.*?<type>graphic.*?</document>', ' ', a, flags = re.DOTALL)\n",
    "        b = re.sub('<.*?>', ' ', a, flags = re.DOTALL)\n",
    "        c = re.sub('&nbsp;', \" \", b)\n",
    "        d = re.sub('\\t|\\n',' ',c)\n",
    "        return re.sub(r\"&[a-z0-9#]+;\", \"\", d)"
   ]
  },
  {
   "cell_type": "code",
   "execution_count": 8,
   "id": "a389238a",
   "metadata": {},
   "outputs": [],
   "source": [
    "def get_item_section_text(text,item_start_location, item_start_order, end_index):\n",
    "    \"\"\"\n",
    "        use the pre-build item list\n",
    "        return the location of the items in the list\n",
    "    \"\"\"\n",
    "    item_section = {}\n",
    "    num_found = len(item_start_order)\n",
    "    for i in range(num_found):\n",
    "        item = item_start_order[i]\n",
    "        start = item_start_location[item]\n",
    "        # last item found\n",
    "        if(i == num_found - 1):        \n",
    "            end = r'Pursuant to the requirements of the Securities Exchange Act'.lower()\n",
    "            new_text = text[start:end_index]\n",
    "            new_text = re.sub( end, '',new_text)\n",
    "        else:\n",
    "            next_item = item_start_order[i+1]\n",
    "            next_start = item_start_location[next_item]\n",
    "            new_text = text[start:next_start]\n",
    "        \n",
    "        new_text = new_text.strip()\n",
    "        if len(new_text) == 0:\n",
    "            continue\n",
    "        item_section[item] = new_text\n",
    "    return item_section\n"
   ]
  },
  {
   "cell_type": "code",
   "execution_count": 9,
   "id": "211bf711",
   "metadata": {},
   "outputs": [],
   "source": [
    "d_dir ='a8-kq1201912292018.htm'\n",
    "#d_dir = 'd843403d8k.htm'\n",
    "#d_dir = 'divendend.htm'\n",
    "with open(d_dir, encoding='utf-8') as file:\n",
    "    f = file.read()\n",
    "text = extract_8k_text(f)\n",
    "#text"
   ]
  },
  {
   "cell_type": "code",
   "execution_count": 12,
   "id": "36dc1226",
   "metadata": {
    "scrolled": true
   },
   "outputs": [
    {
     "data": {
      "text/plain": [
       "({'financial statements and exhibits': 8123,\n",
       "  'results of operations and financial condition': 7122},\n",
       " ['results of operations and financial condition',\n",
       "  'financial statements and exhibits'],\n",
       " 9967)"
      ]
     },
     "execution_count": 12,
     "metadata": {},
     "output_type": "execute_result"
    }
   ],
   "source": [
    "get_items_section_index(text, item_value)"
   ]
  },
  {
   "cell_type": "code",
   "execution_count": 15,
   "id": "e16f8a42",
   "metadata": {},
   "outputs": [
    {
     "data": {
      "text/plain": [
       "{'results of operations and financial condition': 'results of operations and financial condition.                                           on                           january\\xa029, 2019                           , apple\\xa0inc. (“apple”) issued a press release regarding apple’s financial results for its                           first                           fiscal quarter ended                           december\\xa029, 2018                           . a copy of apple’s press release is attached hereto as exhibit\\xa099.1.                                           the information contained in this current report shall not be deemed “filed” for purposes of section 18 of the securities exchange act of 1934, as amended (the “exchange act”), or incorporated by reference in any filing under the securities act of 1933, as amended, or the exchange act, except as shall be expressly set forth by specific reference in such a filing.                                                                                                               item 9.01',\n",
       " 'financial statements and exhibits': 'financial statements and exhibits.                                                                                                                                         (d)                                                                              exhibits.                                                                                                                                                                                                                                                                                         exhibit                                                                    number                                                                                                                                                                          exhibit description                                                                                                                                                                                                                                                                                                    99.1                                                                                                                                                                                          press release issued by apple inc. on january 29, 2019.                                                                                                                                                                                                                                                                                                                                                                                                signature'}"
      ]
     },
     "execution_count": 15,
     "metadata": {},
     "output_type": "execute_result"
    }
   ],
   "source": [
    "item_start_location, item_start_order, end_index =get_items_section_index(text, item_value)\n",
    "get_item_section_text(text,item_start_location, item_start_order, end_index)"
   ]
  },
  {
   "cell_type": "code",
   "execution_count": 14,
   "id": "e880282d",
   "metadata": {},
   "outputs": [],
   "source": [
    "def testing_item_parsing(test_file,items_type):\n",
    "    error_file = []\n",
    "    parsed_file = []\n",
    "    for filename in test_file:\n",
    "        with open(filename, encoding='utf-8') as file:\n",
    "            f = file.read()\n",
    "        text = extract_8k_text(f)\n",
    "        item_start_location, item_start_order, end_index = get_items_section_index(text, items_type)\n",
    "        item_text = get_item_section_text(text,item_start_location, item_start_order, end_index)\n",
    "        if(len(item_text)==0):\n",
    "            print(filename)\n",
    "            error_file=[filename]\n",
    "        else:\n",
    "            parsed_file += [(filename, item_text)]\n",
    "    return parsed_file,error_file \n",
    "    "
   ]
  },
  {
   "cell_type": "code",
   "execution_count": 988,
   "id": "135d5676",
   "metadata": {},
   "outputs": [],
   "source": [
    "test_file = ['a8-kq1201912292018.htm',\n",
    "            'd843403d8k.htm',\n",
    "            'divendend.htm',\n",
    "            #'v89153e8vk.htm',\n",
    "             'd376136d8k.htm',\n",
    "             'form8kdirectors.htm'\n",
    "            ]"
   ]
  },
  {
   "cell_type": "code",
   "execution_count": 989,
   "id": "1a0a605e",
   "metadata": {},
   "outputs": [
    {
     "name": "stdout",
     "output_type": "stream",
     "text": [
      "no end\n"
     ]
    },
    {
     "data": {
      "text/plain": [
       "([('a8-kq1201912292018.htm',\n",
       "   {'results of operations and financial condition': 'results of operations and financial condition.                                           on                           january\\xa029, 2019                           , apple\\xa0inc. (“apple”) issued a press release regarding apple’s financial results for its                           first                           fiscal quarter ended                           december\\xa029, 2018                           . a copy of apple’s press release is attached hereto as exhibit\\xa099.1.                                           the information contained in this current report shall not be deemed “filed” for purposes of section 18 of the securities exchange act of 1934, as amended (the “exchange act”), or incorporated by reference in any filing under the securities act of 1933, as amended, or the exchange act, except as shall be expressly set forth by specific reference in such a filing.                                                                                                               item 9.01',\n",
       "    'financial statements and exhibits': 'financial statements and exhibits.                                                                                                                                         (d)                                                                              exhibits.                                                                                                                                                                                                                                                                                         exhibit                                                                    number                                                                                                                                                                          exhibit description                                                                                                                                                                                                                                                                                                    99.1                                                                                                                                                                                          press release issued by apple inc. on january 29, 2019.                                                                                                                                                                                                                                                                                                                                                                                                signature'}),\n",
       "  ('d843403d8k.htm',\n",
       "   {'departure of directors or certain officers; election of directors; appointment of certain officers; compensatory arrangements of certain officers': 'departure of directors or certain officers; election of directors; appointment of certain officers; compensatory arrangements of certain officers.                                                     on december\\xa03, 2019, alphabet inc. (“                      alphabet                     ”) announced that larry page and sergey brin have decided to transition from their roles as alphabet’s chief executive officer and president, respectively.                              the board of directors of alphabet has approved the appointment of sundar pichai, chief executive officer of google llc (“                      google                     ”), as alphabet’s chief executive officer, effective immediately. mr.\\xa0pichai will continue to serve as google’s chief executive officer. mr.\\xa0page and mr.\\xa0brin will continue to remain active as                      co-founders,                     stockholders, and board members of alphabet.                              a copy of the press release announcing the changes is filed as exhibit 99.1 to this form                      8-k                     and is incorporated herein by reference.                                                                           item\\xa09.01.',\n",
       "    'financial statements and exhibits': 'financial statements and exhibits.                                                                                                  (d)                                    exhibits.                                                                                                                                                                                                                                          exhibit                           no.                                                                                                               description                                                                                                                                                                                                                                                           99.1                                                                                                                              press release dated december\\xa03, 2019                                                                                                                                                                                                                                                                         104                                                                                                               cover page interactive data file (embedded within the inline xbrl document).                                                                                                                                                       signature'}),\n",
       "  ('divendend.htm',\n",
       "   {'regulation fd disclosure': 'regulation                     fd disclosure                                                                                                                     on                     april 16,                     2007, the procter  gamble company (the \"company\") announced that its                     board of directors declared an increase in the\\xa0quarterly                     dividend\\xa0from thirty-one cents ($0.31) to thirty-five cents ($0.35)                     per share on its common stock and on the series a and series                     b esop                     convertible class a preferred stock of the company, payable on                     or                     after\\xa0may 15, 2007 to shareholders of record at the close of business                     on april 27, 2007.\\xa0 this represents a 13% increase compared to the                     prior quarterly dividend.\\xa0 this 8-k is being furnished pursuant to                     item 7.01, \"regulation fd                     disclosure.\"                                                                                                                                                                                                                                                            signature                                                                                                                     pursuant                     to                     the requirements of the securities exchange act of 1934, the                     registrant                     has duly caused this report to be signed on its behalf by the                     undersigned                     hereunto duly authorized.                                                                                                                                                                                                                                                                                                                                                                                                                                                                                                                                   the           procter  gamble           company                                                                                                                                                                                                                                                                                                                                                                                                                                                                                                                                                                                                                                                                                                                          by:                                                                    /s/\\xa0susan           s. felder                                                                                                                                                                                                                                             susan           s.           felder                                                                                                                                                   assistant           secretary                                                                                                                                                   april           16,           2007'}),\n",
       "  ('d376136d8k.htm',\n",
       "   {'other events': 'other events.                                                                                                                                                                   3                                                                                                                                                                                                                                              item\\xa09.01.',\n",
       "    'financial statements and exhibits': 'financial statements and exhibits.                                                                                                                                                                   4                                                                                                                                                                                                                                              signatures                                                                                                                                                                   5                                                                                                                                                                                                               exhibit 1.1                                                                                                                                                                                                                                                   exhibit 4.1                                                                                                                                                                                                                                                   exhibit 4.2                                                                                                                                                                                                                                                   exhibit 4.3                                                                                                                                                                                                                                                   exhibit 4.4                                                                                                                                                                                                                                                   exhibit 4.5                                                                                                                                                                                                                                                   exhibit 4.6                                                                                                                                                                                                                                                   exhibit 5.1                                                                                                                                                                                                                                                   exhibit 23.1                                                                                                                                                                                                                                                                                                   item\\xa08.01.                                                                    other events.                                                                        on december\\xa01, 2022, amazon.com, inc. (the “company”) closed the sale of $1,250,000,000 aggregate principal amount of its 4.700% notes due 2024 (the “2024 notes”), $1,250,000,000 aggregate principal amount of its 4.600% notes due 2025 (the “2025 notes”), $2,000,000,000 aggregate principal amount of its 4.550% notes due 2027 (the “2027 notes”), $1,500,000,000 aggregate principal amount of its 4.650% notes due 2029 (the “2029 notes”), and $2,250,000,000 aggregate principal amount of its 4.700% notes due 2032 (the “2032 notes” and, together with the 2024 notes, 2025 notes, 2027 notes, and 2029 notes, the “notes”) pursuant to an underwriting agreement dated november\\xa029, 2022 (the “underwriting agreement”) among the company and j.p. morgan securities llc, barclays capital inc., bofa securities, inc., and sg americas securities, llc, as managers of the several underwriters named in schedule ii therein. the sale of the notes was registered under the company’s registration statement on form                        s-3                       filed on june\\xa01, 2020 (file                        no.\\xa0333-238831).                                             the aggregate public offering price of the notes was $8.246\\xa0billion and the estimated net proceeds from the offering were approximately $8.235\\xa0billion, after deducting underwriting discounts from the public offering price and before deducting offering expenses payable by us. the notes were issued pursuant to an indenture dated as of november\\xa029, 2012 between the company and wells fargo bank, national association, as trustee (the “prior trustee”), as amended and supplemented by supplemental indenture no.\\xa01, dated as of april\\xa013, 2022, among the company, the prior trustee, and computershare trust company, national association, as successor trustee, together with the officers’ certificate dated as of december\\xa01, 2022 issued pursuant thereto establishing the terms of each series of the notes (the “officers’ certificate”).                                 the foregoing descriptions of the underwriting agreement and the officers’ certificate are qualified in their entirety by the terms of such documents, which are filed as exhibit 1.1 and exhibit 4.1, respectively, and incorporated herein by reference. the foregoing description of the notes is qualified in its entirety by reference to the full text of the form of 2024 note, form of 2025 note, form of 2027 note, form of 2029 note, and form of 2032 note, which are filed hereto as exhibit 4.2, exhibit 4.3, exhibit 4.4, exhibit 4.5, and exhibit 4.6, respectively, and incorporated herein by reference.                                                       3                                                                                                                                            item\\xa09.01.                                                                    financial statements and exhibits.                                                                                     (d) exhibits.                                                                                                                                                                                                                   exhibit                                          number                                                                                              description                                                                                                                                                         1.1                                                                                underwriting agreement, dated as of november\\xa029, 2022, among amazon.com, inc. and j.p. morgan securities llc, barclays capital inc., bofa securities, inc., and sg americas securities, llc, as managers of the several underwriters named in schedule ii therein.                                                                                                                                                         4.1                                                                                officers’ certificate of amazon.com, inc., dated as of december\\xa01, 2022.                                                                                                                                                         4.2                                                                                form of 4.700% note due 2024 (included in exhibit\\xa04.1).                                                                                                                                                         4.3                                                                                form of 4.600% note due 2025 (included in exhibit\\xa04.1).                                                                                                                                                         4.4                                                                                form of 4.550% note due 2027 (included in exhibit\\xa04.1).                                                                                                                                                         4.5                                                                                form of 4.650% note due 2029 (included in exhibit\\xa04.1).                                                                                                                                                         4.6                                                                                form of 4.700% note due 2032 (included in exhibit\\xa04.1).                                                                                                                                                         5.1                                                                                opinion of gibson, dunn\\xa0 crutcher llp.                                                                                                                                                         23.1                                                                                consent of gibson, dunn\\xa0 crutcher llp (included in exhibit\\xa05.1).                                                                                                                                                         104                                                                 the cover page from this current report on form                            8-k,                           formatted in inline xbrl (included as exhibit\\xa0101).                                                                                4                                                                                                  signatures'}),\n",
       "  ('form8kdirectors.htm',\n",
       "   {'other events': 'other events                        on may 3, 2004, j.p. morgan chase  co. and bank one corporation announced the board of directors of j.p. morgan chase  co., effective upon the consummation of the merger between j.p. morgan chase  co. and bank one corporation.  attached as an exhibit is a copy of the press release with respect to the foregoing.                                        item 7.  financial statements, pro forma financial information and exhibits                        (c)                  exhibits                                                      the following is furnished as an exhibit to this report:                              99.1 press release dated may 3, 2004.                                                                                                   signatures'})],\n",
       " [])"
      ]
     },
     "execution_count": 989,
     "metadata": {},
     "output_type": "execute_result"
    }
   ],
   "source": [
    "testing_item_parsing(test_file,item_value )"
   ]
  },
  {
   "cell_type": "code",
   "execution_count": null,
   "id": "136d4cd3",
   "metadata": {},
   "outputs": [],
   "source": []
  },
  {
   "cell_type": "code",
   "execution_count": null,
   "id": "b1fe5971",
   "metadata": {},
   "outputs": [],
   "source": []
  },
  {
   "cell_type": "code",
   "execution_count": null,
   "id": "de64d1da",
   "metadata": {},
   "outputs": [],
   "source": []
  },
  {
   "cell_type": "code",
   "execution_count": null,
   "id": "00d5dd2b",
   "metadata": {},
   "outputs": [],
   "source": []
  }
 ],
 "metadata": {
  "kernelspec": {
   "display_name": "Python 3 (ipykernel)",
   "language": "python",
   "name": "python3"
  },
  "language_info": {
   "codemirror_mode": {
    "name": "ipython",
    "version": 3
   },
   "file_extension": ".py",
   "mimetype": "text/x-python",
   "name": "python",
   "nbconvert_exporter": "python",
   "pygments_lexer": "ipython3",
   "version": "3.9.12"
  }
 },
 "nbformat": 4,
 "nbformat_minor": 5
}
