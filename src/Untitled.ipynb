{
 "cells": [
  {
   "cell_type": "code",
   "execution_count": 7,
   "id": "9eed6d5f-2b97-4640-b28b-6cb93efac08d",
   "metadata": {},
   "outputs": [],
   "source": [
    "import EDGAR\n",
    "import os\n",
    "\n",
    "p = EDGAR.parser()\n",
    "\n",
    "p.metadata.data_dir\n",
    "\n",
    "p.metadata.load_tikr_metadata(tikr = 'nflx')\n",
    "p.get_annotated_submissions('nflx')\n",
    "p.featurize_file(tikr = 'nflx', submission='0001065280-19-000368', filename = 'form10qq319.htm',clean_raw = False)"
   ]
  },
  {
   "cell_type": "code",
   "execution_count": 3,
   "id": "ae3062e2-9ce6-4728-a11f-8bb017c5ab6c",
   "metadata": {
    "collapsed": true,
    "jupyter": {
     "outputs_hidden": true
    },
    "tags": []
   },
   "outputs": [],
   "source": [
    "# mtd = EDGAR.metadata()\n",
    "\n",
    "# mtd.tikr_list()"
   ]
  },
  {
   "cell_type": "code",
   "execution_count": 11,
   "id": "6a9874f6-8bde-42da-9d9e-8cac67ad336c",
   "metadata": {},
   "outputs": [
    {
     "data": {
      "text/plain": [
       "True"
      ]
     },
     "execution_count": 11,
     "metadata": {},
     "output_type": "execute_result"
    }
   ],
   "source": [
    "# import urllib.request\n",
    "\n",
    "# if not os.path.exists('data'):\n",
    "\n",
    "#    # Create a new directory because it does not exist\n",
    "#    os.makedirs('data')\n",
    "# urllib.request.urlretrieve(\"https://www.sec.gov/files/company_tickers.json\", os.path.join('data','tikr.json'))\n",
    "\n",
    "\n",
    "# os.path.isfile(os.path.join('data','tikr.json'))\n",
    "\n",
    "# # import json\n",
    "# # with open('tikr.json') as json_file:\n",
    "# #     data = json.load(json_file)\n",
    "\n",
    "# # [data[i]['ticker'] for i in data]\n",
    "\n",
    "# # for i in data:\n",
    "#     # print(i)\n",
    "\n",
    "# # data"
   ]
  },
  {
   "cell_type": "code",
   "execution_count": 10,
   "id": "7ec12e29-98c1-432b-bf02-e6df78a4bf2d",
   "metadata": {},
   "outputs": [],
   "source": [
    "# os.remove(os.path.join('data','tikr.json'))"
   ]
  }
 ],
 "metadata": {
  "kernelspec": {
   "display_name": "Python 3 (ipykernel)",
   "language": "python",
   "name": "python3"
  },
  "language_info": {
   "codemirror_mode": {
    "name": "ipython",
    "version": 3
   },
   "file_extension": ".py",
   "mimetype": "text/x-python",
   "name": "python",
   "nbconvert_exporter": "python",
   "pygments_lexer": "ipython3",
   "version": "3.10.4"
  }
 },
 "nbformat": 4,
 "nbformat_minor": 5
}
