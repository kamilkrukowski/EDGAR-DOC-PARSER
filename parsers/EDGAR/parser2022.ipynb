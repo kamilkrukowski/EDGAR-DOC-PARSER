{
 "cells": [
  {
   "cell_type": "code",
   "execution_count": 11,
   "id": "342f09d0-e17d-4d99-a572-646e90ecc2ad",
   "metadata": {},
   "outputs": [],
   "source": [
    "dir_webdriver = 'C:\\\\Neal\\\\Tufts_University\\\\capstone\\\\EDGAR'\n",
    "dir_html = 'C:\\\\Neal\\\\Tufts_University\\\\capstone\\\\EDGAR\\\\2022.html'\n",
    "import base64\n",
    "from selenium import webdriver\n",
    "from selenium.webdriver.common.by import By\n",
    "import pandas as pd\n",
    "import numpy as np\n",
    "from selenium.common.exceptions import NoSuchElementException"
   ]
  },
  {
   "cell_type": "code",
   "execution_count": 20,
   "id": "bb8c8f94-12e5-4d0f-b2f5-a46e8cc5a626",
   "metadata": {
    "tags": []
   },
   "outputs": [
    {
     "name": "stderr",
     "output_type": "stream",
     "text": [
      "C:\\Users\\Zhaohui Zhang\\AppData\\Local\\Temp\\ipykernel_15288\\3509480561.py:3: DeprecationWarning: firefox_profile has been deprecated, please pass in an Options object\n",
      "  driver = webdriver.Firefox(dir_webdriver)\n"
     ]
    }
   ],
   "source": [
    "\n",
    "\n",
    "\n",
    "import itertools\n",
    "\n",
    "driver = webdriver.Firefox(dir_webdriver)\n",
    "\n",
    "driver.get(dir_html)\n",
    "\n",
    "found_text = driver.find_elements(By.TAG_NAME, 'span')\n",
    "# found_annotation = driver.find_elements(By.TAG_NAME, 'ix:nonnumeric')\n",
    "temp_txt = [i for i in found_text if i.text not in set([' ', ''])]\n",
    "annotation_dict = dict()\n",
    "# have_annotation = np.zeros_like(temp_txt, 'bool')\n",
    "# elements_with_annotation = []\n",
    "for i in range(len(temp_txt)):\n",
    "    found_annotation = temp_txt[i].find_elements(By.TAG_NAME, 'ix:nonnumeric')\n",
    "    found_annotation += temp_txt[i].find_elements(By.TAG_NAME, 'ix:nonfraction')\n",
    "    # if len(found_annotation) != 0:\n",
    "        # have_annotation[i] = True\n",
    "        # elements_with_annotation += [temp_txt[i]]\n",
    "    annotation_dict[temp_txt[i]] = found_annotation\n",
    "    \n",
    "\n",
    "\n",
    "\n",
    "\n",
    "\n",
    "# temp_anno = [i for i in found_annotation if i.text not in set([' ', ''])]\n",
    "\n",
    "def border_red(elem, driver):\n",
    "    driver.execute_script(f\"arguments[0].setAttribute(arguments[1], arguments[2])\", elem, \n",
    "                          \"style\", \"padding: 1px; border: 2px solid red; display: inline-block\")\n",
    "\n",
    "def border_blue(elem, driver):\n",
    "    driver.execute_script(f\"arguments[0].setAttribute(arguments[1], arguments[2])\", elem, \n",
    "                          \"style\", \"padding: 1px; border: 2px solid blue; display: inline-block\")\n",
    "def border_green(elem, driver):\n",
    "    driver.execute_script(f\"arguments[0].setAttribute(arguments[1], arguments[2])\", elem, \n",
    "                          \"style\", \"padding: 1px; border: 2px solid green; display: inline-block\")\n",
    "def border_yellow(elem, driver):\n",
    "    driver.execute_script(f\"arguments[0].setAttribute(arguments[1], arguments[2])\", elem, \n",
    "                          \"style\", \"padding: 1px; border: 2px solid yellow; display: inline-block\")\n",
    "def border_pink(elem, driver):\n",
    "    driver.execute_script(f\"arguments[0].setAttribute(arguments[1], arguments[2])\", elem, \n",
    "                          \"style\", \"padding: 1px; border: 2px solid pink; display: inline-block\")\n",
    "\n",
    "\n",
    "for i in temp_txt:\n",
    "    border_red(i, driver);\n",
    "for i in annotation_dict:\n",
    "    for j in annotation_dict[i]:\n",
    "        border_blue(j, driver)\n",
    "\n",
    "\n",
    "# tables = [i.get_attribute('innerHTML') for i in driver.find_elements(By.TAG_NAME, 'table')]\n",
    "found_table = driver.find_elements(By.TAG_NAME, 'table')\n",
    "\n",
    "\n",
    "table_is_numeric = np.zeros_like(found_table, 'int')# 0: numerical, 1: non-numerical, 2: unannotated\n",
    "for i in range(len(found_table)):\n",
    "    try: \n",
    "        found_numeric = found_table[i].find_element(By.TAG_NAME, 'ix:nonfraction')\n",
    "        table_is_numeric[i] = 0\n",
    "    except NoSuchElementException:\n",
    "        try:\n",
    "            found_numeric = found_table[i].find_element(By.TAG_NAME, 'ix:nonnumeric')\n",
    "            table_is_numeric[i] = 1\n",
    "        except NoSuchElementException:\n",
    "            table_is_numeric[i] = 2\n",
    "\n",
    "for i in range(len(found_table)):\n",
    "    if table_is_numeric[i] == 0:\n",
    "        \n",
    "        border_green(found_table[i], driver)\n",
    "    elif table_is_numeric[i] == 1:\n",
    "        border_yellow(found_table[i], driver)\n",
    "    else:\n",
    "        border_pink(found_table[i], driver)"
   ]
  },
  {
   "cell_type": "code",
   "execution_count": null,
   "id": "a1c7ec99-9cda-4e49-9c62-4bc16322db0b",
   "metadata": {
    "tags": []
   },
   "outputs": [],
   "source": [
    "# found_table = driver.find_elements(By.TAG_NAME, 'table')\n",
    "# found_table[0].get_attribute('innerHTML')"
   ]
  },
  {
   "cell_type": "code",
   "execution_count": 5,
   "id": "18c3a546-ae62-4a7c-be02-bfe6b461eb52",
   "metadata": {},
   "outputs": [],
   "source": [
    "# driver = webdriver.Firefox(dir_webdriver)\n",
    "\n",
    "# driver.get(dir_html)\n",
    "# a = driver.find_element(By.TAG_NAME, 'dwfewf')"
   ]
  },
  {
   "cell_type": "code",
   "execution_count": 9,
   "id": "284eeb07-36b6-4805-8ebe-164a5f024f5a",
   "metadata": {},
   "outputs": [
    {
     "name": "stdout",
     "output_type": "stream",
     "text": [
      "2\n",
      "3\n",
      "4\n",
      "5\n",
      "4\n",
      "5\n",
      "6\n",
      "7\n"
     ]
    }
   ],
   "source": [
    "A = {1:[2,3,4,5], 2:[4,5,6,7]}\n",
    "for i in A:\n",
    "    for j in A[i]:\n",
    "        print(j)"
   ]
  }
 ],
 "metadata": {
  "kernelspec": {
   "display_name": "Python 3 (ipykernel)",
   "language": "python",
   "name": "python3"
  },
  "language_info": {
   "codemirror_mode": {
    "name": "ipython",
    "version": 3
   },
   "file_extension": ".py",
   "mimetype": "text/x-python",
   "name": "python",
   "nbconvert_exporter": "python",
   "pygments_lexer": "ipython3",
   "version": "3.10.0"
  }
 },
 "nbformat": 4,
 "nbformat_minor": 5
}
